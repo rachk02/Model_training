{
  "cells": [
    {
      "cell_type": "code",
      "id": "b8a2ea645e2d9377",
      "metadata": {
        "ExecuteTime": {
          "end_time": "2024-10-12T15:48:42.271863Z",
          "start_time": "2024-10-12T15:48:42.263643Z"
        },
        "id": "b8a2ea645e2d9377"
      },
      "source": [
        "# Chargement des dépendances\n",
        "\n",
        "# Bibliothèques pour le traitement de texte et le langage naturel\n",
        "import spacy\n",
        "\n",
        "# Bibliothèques pour le calcul et la manipulation de données\n",
        "import numpy as np  # Manipulation de tableaux et de matrices\n",
        "import pandas as pd  # Manipulation et analyse de données avec des DataFrames\n",
        "\n",
        "# Bibliothèques pour la visualisation de données\n",
        "import seaborn as sns  # Visualisation de données\n",
        "from wordcloud import WordCloud  # Génération de nuages de mots\n",
        "import matplotlib.pyplot as plt  # Création de graphiques et de visualisations\n",
        "plt.style.use('ggplot')  # Application d'un style de visualisation (ggplot)\n",
        "\n",
        "# Bibliothèques pour l'apprentissage automatique\n",
        "from keras.models import Sequential  # Modèle séquentiel pour les réseaux de neurones\n",
        "from keras.layers import LSTM, Dense, Embedding, Dropout  # Couches pour le réseau de neurones\n",
        "from keras.utils import to_categorical\n",
        "from keras.callbacks import EarlyStopping, ModelCheckpoint\n",
        "from tensorflow.keras.preprocessing.text import Tokenizer # Transformation de texte en séquences de nombres\n",
        "from keras.preprocessing.sequence import pad_sequences  # Normalisation des longueurs de séquences\n",
        "from scikeras.wrappers import KerasClassifier  # Intégration de Keras dans scikit-learn\n",
        "\n",
        "# Bibliothèques pour l'évaluation et la validation des modèles\n",
        "from sklearn.model_selection import train_test_split, cross_val_score  # Division des données et validation croisée\n",
        "from sklearn.metrics import classification_report, confusion_matrix  # Évaluation des performances des modèles\n",
        "\n",
        "# Utilitaires\n",
        "import re  # Utilisé pour les opérations avec des expressions régulières\n",
        "import time  # Utilisé pour des opérations liées au temps\n",
        "import warnings  # Pour gérer les avertissements\n",
        "warnings.filterwarnings(\"ignore\")  # Ignore les avertissements pour garder la sortie propre\n"
      ],
      "outputs": [],
      "execution_count": null
    },
    {
      "cell_type": "code",
      "source": [
        "!python -m spacy download fr_core_news_sm"
      ],
      "metadata": {
        "id": "X71JMtmuLBxX"
      },
      "id": "X71JMtmuLBxX",
      "execution_count": null,
      "outputs": []
    },
    {
      "cell_type": "code",
      "source": [
        "# Charger le modèle français\n",
        "nlp = spacy.load('fr_core_news_sm')"
      ],
      "metadata": {
        "id": "v-Fm5CwELZOO"
      },
      "id": "v-Fm5CwELZOO",
      "execution_count": null,
      "outputs": []
    },
    {
      "cell_type": "code",
      "source": [
        "! pip freeze > requirements.txt"
      ],
      "metadata": {
        "id": "T77pxO7M70Zi"
      },
      "id": "T77pxO7M70Zi",
      "execution_count": null,
      "outputs": []
    },
    {
      "cell_type": "code",
      "source": [
        "# Charger le dataset\n",
        "dataset = pd.read_csv('dataset_french.csv')\n",
        "dataset = dataset.sample(frac=1).reset_index(drop=True)  # Mélanger les données"
      ],
      "metadata": {
        "id": "wgBCgF0fj2dn"
      },
      "id": "wgBCgF0fj2dn",
      "execution_count": null,
      "outputs": []
    },
    {
      "cell_type": "code",
      "id": "fa7147ac4cd6d255",
      "metadata": {
        "ExecuteTime": {
          "end_time": "2024-10-12T15:49:15.061413Z",
          "start_time": "2024-10-12T15:49:15.034073Z"
        },
        "id": "fa7147ac4cd6d255"
      },
      "source": [
        "# Analyse exploratoire du dataset\n",
        "print(\"Aperçu du dataset :\")\n",
        "dataset.head()  # Affiche les 5 premières lignes\n"
      ],
      "outputs": [],
      "execution_count": null
    },
    {
      "cell_type": "code",
      "id": "f5392df599821335",
      "metadata": {
        "ExecuteTime": {
          "end_time": "2024-10-12T15:49:29.494659Z",
          "start_time": "2024-10-12T15:49:29.471392Z"
        },
        "id": "f5392df599821335"
      },
      "source": [
        "print(\"\\nInformations sur le dataset :\")\n",
        "dataset.info()  # Informations sur les types de données\n"
      ],
      "outputs": [],
      "execution_count": null
    },
    {
      "cell_type": "code",
      "id": "3001c66db8eb413f",
      "metadata": {
        "ExecuteTime": {
          "end_time": "2024-10-12T15:49:37.091805Z",
          "start_time": "2024-10-12T15:49:37.062368Z"
        },
        "id": "3001c66db8eb413f"
      },
      "source": [
        "# Statistiques descriptives pour les colonnes numériques\n",
        "print(\"\\nStatistiques descriptives :\")\n",
        "dataset.describe()"
      ],
      "outputs": [],
      "execution_count": null
    },
    {
      "cell_type": "code",
      "id": "44c9002cb698aa31",
      "metadata": {
        "ExecuteTime": {
          "end_time": "2024-10-12T15:49:47.583679Z",
          "start_time": "2024-10-12T15:49:47.213449Z"
        },
        "id": "44c9002cb698aa31"
      },
      "source": [
        "# Visualisation des longueurs de tweets\n",
        "plt.figure(figsize=(10, 6))\n",
        "dataset['text_length'] = dataset['text'].str.len()  # Ajouter une colonne pour la longueur des tweets\n",
        "dataset['text_length'].plot.hist(bins=30, alpha=0.7)  # Histogramme des longueurs de tweets\n",
        "plt.title('Distribution de la longueur des tweets')\n",
        "plt.xlabel('Longueur du tweet')\n",
        "plt.ylabel('Fréquence')\n",
        "plt.show()"
      ],
      "outputs": [],
      "execution_count": null
    },
    {
      "cell_type": "code",
      "id": "a125ade49a428f35",
      "metadata": {
        "ExecuteTime": {
          "end_time": "2024-10-12T15:49:57.296440Z",
          "start_time": "2024-10-12T15:49:57.071218Z"
        },
        "id": "a125ade49a428f35"
      },
      "source": [
        "# Comptage des classes de sentiment avec un graphique à barres\n",
        "plt.figure(figsize=(8, 6))\n",
        "dataset['label'].value_counts().plot.bar()  # Compte des classes de sentiment\n",
        "plt.title('Comptage des classes de sentiment')\n",
        "plt.xlabel('Sentiment')\n",
        "plt.ylabel('Nombre de tweets')\n",
        "plt.xticks(rotation=0)  # Rotation des étiquettes pour une meilleure lisibilité\n",
        "plt.show()"
      ],
      "outputs": [],
      "execution_count": null
    },
    {
      "cell_type": "code",
      "id": "70e17feabebc8973",
      "metadata": {
        "ExecuteTime": {
          "end_time": "2024-10-12T15:50:51.045587Z",
          "start_time": "2024-10-12T15:50:50.997439Z"
        },
        "id": "70e17feabebc8973"
      },
      "source": [
        "dataset.columns"
      ],
      "outputs": [],
      "execution_count": null
    },
    {
      "cell_type": "code",
      "id": "74bb8a2ad3e15a0",
      "metadata": {
        "ExecuteTime": {
          "end_time": "2024-10-12T15:50:54.969793Z",
          "start_time": "2024-10-12T15:50:54.961903Z"
        },
        "id": "74bb8a2ad3e15a0"
      },
      "source": [
        "# Garder uniquement les colonnes nécessaires\n",
        "dataset = dataset[['label', 'text']]"
      ],
      "outputs": [],
      "execution_count": null
    },
    {
      "cell_type": "code",
      "id": "cb7578746d963cfe",
      "metadata": {
        "ExecuteTime": {
          "end_time": "2024-10-12T15:51:02.076685Z",
          "start_time": "2024-10-12T15:51:02.064273Z"
        },
        "id": "cb7578746d963cfe"
      },
      "source": [
        "dataset.head()"
      ],
      "outputs": [],
      "execution_count": null
    },
    {
      "cell_type": "code",
      "id": "30b350f01f406c5",
      "metadata": {
        "ExecuteTime": {
          "end_time": "2024-10-12T15:51:09.994415Z",
          "start_time": "2024-10-12T15:51:09.984303Z"
        },
        "id": "30b350f01f406c5"
      },
      "source": [
        "np.sum(dataset.isnull().any(axis=1))"
      ],
      "outputs": [],
      "execution_count": null
    },
    {
      "cell_type": "code",
      "source": [
        "dataset.dropna(inplace=True)"
      ],
      "metadata": {
        "id": "vnOcBBizm4cV"
      },
      "id": "vnOcBBizm4cV",
      "execution_count": null,
      "outputs": []
    },
    {
      "cell_type": "markdown",
      "id": "c5161837eda1b98c",
      "metadata": {
        "id": "c5161837eda1b98c"
      },
      "source": [
        "## Prétraitement des tweets\n"
      ]
    },
    {
      "cell_type": "code",
      "id": "e6a542f996b88b6d",
      "metadata": {
        "ExecuteTime": {
          "end_time": "2024-10-12T15:51:14.083957Z",
          "start_time": "2024-10-12T15:51:14.076291Z"
        },
        "id": "e6a542f996b88b6d"
      },
      "source": [
        "# Suppression des URL, mentions et hashtags\n",
        "def remove_urls_mentions_hashtags(text):\n",
        "    text = re.sub(r'http\\S+|www\\S+|https\\S+', '', text, flags=re.MULTILINE)  # Supprimer les URL\n",
        "    text = re.sub(r'@\\w+', '', text)  # Supprimer les mentions\n",
        "    text = re.sub(r'#\\w+', '', text)  # Supprimer les hashtags\n",
        "    return text"
      ],
      "outputs": [],
      "execution_count": null
    },
    {
      "cell_type": "code",
      "id": "3a090c33fd950fb8",
      "metadata": {
        "ExecuteTime": {
          "end_time": "2024-10-12T15:51:16.426782Z",
          "start_time": "2024-10-12T15:51:16.421781Z"
        },
        "id": "3a090c33fd950fb8"
      },
      "source": [
        "# Mise en minuscules\n",
        "def to_lowercase(text):\n",
        "    return text.lower()"
      ],
      "outputs": [],
      "execution_count": null
    },
    {
      "cell_type": "code",
      "id": "4601fceb65dd8967",
      "metadata": {
        "ExecuteTime": {
          "end_time": "2024-10-12T15:51:26.257345Z",
          "start_time": "2024-10-12T15:51:26.241291Z"
        },
        "id": "4601fceb65dd8967"
      },
      "source": [
        "# Lemmatisation avec WordNetLemmatizer\n",
        "def lemmatize_text(text):\n",
        "    doc = nlp(text)\n",
        "    lemmatized_tokens = [\n",
        "        token.lemma_ for token in doc if not token.is_stop and not token.is_punct\n",
        "    ]\n",
        "    return ' '.join(lemmatized_tokens)"
      ],
      "outputs": [],
      "execution_count": null
    },
    {
      "cell_type": "code",
      "id": "52180f50c3eea732",
      "metadata": {
        "ExecuteTime": {
          "end_time": "2024-10-12T15:51:35.501550Z",
          "start_time": "2024-10-12T15:51:30.531605Z"
        },
        "id": "52180f50c3eea732"
      },
      "source": [
        "# Appliquer chaque étape de prétraitement\n",
        "dataset['text_cleaned'] = dataset['text']\n",
        "dataset['text_cleaned'] = dataset['text_cleaned'].apply(remove_urls_mentions_hashtags)\n",
        "dataset['text_cleaned'] = dataset['text_cleaned'].apply(to_lowercase)\n",
        "dataset['text_cleaned'] = dataset['text_cleaned'].apply(lemmatize_text)"
      ],
      "outputs": [],
      "execution_count": null
    },
    {
      "cell_type": "code",
      "id": "e97dbf7febaf4c7a",
      "metadata": {
        "ExecuteTime": {
          "end_time": "2024-10-12T15:51:39.224570Z",
          "start_time": "2024-10-12T15:51:39.215143Z"
        },
        "id": "e97dbf7febaf4c7a"
      },
      "source": [
        "dataset.head()"
      ],
      "outputs": [],
      "execution_count": null
    },
    {
      "cell_type": "code",
      "id": "8abc5d9a442793b8",
      "metadata": {
        "ExecuteTime": {
          "end_time": "2024-10-12T15:51:45.336289Z",
          "start_time": "2024-10-12T15:51:43.701676Z"
        },
        "id": "8abc5d9a442793b8"
      },
      "source": [
        "# Visualisation avec WordCloud\n",
        "plt.figure(figsize=(12, 8))\n",
        "wordcloud = WordCloud(width=2000, height=800, background_color='white').generate(' '.join(dataset['text_cleaned']))\n",
        "plt.imshow(wordcloud, interpolation='bilinear')\n",
        "plt.axis('off')\n",
        "plt.title('Nuage de mots des tweets')\n",
        "plt.show()"
      ],
      "outputs": [],
      "execution_count": null
    },
    {
      "cell_type": "code",
      "id": "2d47eb3744739de6",
      "metadata": {
        "ExecuteTime": {
          "end_time": "2024-10-12T15:52:08.058181Z",
          "start_time": "2024-10-12T15:52:07.322631Z"
        },
        "id": "2d47eb3744739de6"
      },
      "source": [
        "# Tokenisation et Padding\n",
        "tokenizer = Tokenizer(num_words=100000)\n",
        "tokenizer.fit_on_texts(dataset['text_cleaned'].values)\n",
        "X = tokenizer.texts_to_sequences(dataset['text_cleaned'].values)\n",
        "X = pad_sequences(X, maxlen=100)\n",
        "X[:7]"
      ],
      "outputs": [],
      "execution_count": null
    },
    {
      "cell_type": "code",
      "execution_count": null,
      "id": "a3597c83972b3417",
      "metadata": {
        "ExecuteTime": {
          "end_time": "2024-10-01T01:02:23.263716Z",
          "start_time": "2024-10-01T01:02:23.258507Z"
        },
        "id": "a3597c83972b3417"
      },
      "outputs": [],
      "source": [
        "X.shape"
      ]
    },
    {
      "cell_type": "code",
      "source": [
        "# Enregistrer le tokenizer\n",
        "joblib.dump(tokenizer, 'tokenizer_french.pkl')"
      ],
      "metadata": {
        "id": "liLb8MhkobXR"
      },
      "id": "liLb8MhkobXR",
      "execution_count": null,
      "outputs": []
    },
    {
      "cell_type": "code",
      "execution_count": null,
      "id": "44a122424348e9cd",
      "metadata": {
        "ExecuteTime": {
          "end_time": "2024-10-01T01:02:25.243586Z",
          "start_time": "2024-10-01T01:02:25.230376Z"
        },
        "id": "44a122424348e9cd"
      },
      "outputs": [],
      "source": [
        "# Encodage des étiquettes\n",
        "y = pd.get_dummies(dataset['label']).values\n",
        "[print(dataset['label'][i], y[i]) for i in range(0, 7)]"
      ]
    },
    {
      "cell_type": "code",
      "execution_count": null,
      "id": "1e058cfce6c87f18",
      "metadata": {
        "ExecuteTime": {
          "end_time": "2024-10-01T01:02:30.898506Z",
          "start_time": "2024-10-01T01:02:30.889492Z"
        },
        "id": "1e058cfce6c87f18"
      },
      "outputs": [],
      "source": [
        "# Division des données en jeu d'entraînement et de test\n",
        "X_train, X_test, y_train, y_test = train_test_split(X, y, test_size=0.2, random_state=42)\n"
      ]
    },
    {
      "cell_type": "code",
      "execution_count": null,
      "id": "5a38b1f349991850",
      "metadata": {
        "ExecuteTime": {
          "end_time": "2024-10-01T01:02:39.613679Z",
          "start_time": "2024-10-01T01:02:39.605301Z"
        },
        "id": "5a38b1f349991850"
      },
      "outputs": [],
      "source": [
        "# Construction du modèle LSTM\n",
        "def create_model():\n",
        "    model = Sequential()\n",
        "    model.add(Embedding(input_dim=100000, output_dim=256, input_length=100))\n",
        "    model.add(Dropout(0.5))\n",
        "    model.add(LSTM(512, return_sequences=True, dropout=0.5, recurrent_dropout=0.2))\n",
        "    model.add(LSTM(512, dropout=0.5, recurrent_dropout=0.2))\n",
        "    model.add(Dense(units=3, activation='softmax'))\n",
        "\n",
        "    # Compilation du modèle\n",
        "    model.compile(loss='categorical_crossentropy', optimizer='adam', metrics=['accuracy'])\n",
        "    return model"
      ]
    },
    {
      "cell_type": "code",
      "execution_count": null,
      "id": "954e8c7bf3fcd998",
      "metadata": {
        "ExecuteTime": {
          "end_time": "2024-10-01T01:29:19.947719Z",
          "start_time": "2024-10-01T01:29:19.181624Z"
        },
        "id": "954e8c7bf3fcd998"
      },
      "outputs": [],
      "source": [
        "# Création du modèle LSTM\n",
        "model = create_model()"
      ]
    },
    {
      "cell_type": "code",
      "execution_count": null,
      "id": "cab23efe9ad50392",
      "metadata": {
        "ExecuteTime": {
          "end_time": "2024-10-01T01:29:21.457282Z",
          "start_time": "2024-10-01T01:29:21.430258Z"
        },
        "id": "cab23efe9ad50392"
      },
      "outputs": [],
      "source": [
        "model.summary()"
      ]
    },
    {
      "cell_type": "markdown",
      "id": "3ffa5d153bc14428",
      "metadata": {
        "id": "3ffa5d153bc14428"
      },
      "source": [
        "## Entrainement du modèle"
      ]
    },
    {
      "cell_type": "code",
      "source": [
        "print(\"Shapes:\")\n",
        "print(\"X_train shape:\", X_train.shape)\n",
        "print(\"y_train shape:\", y_train.shape)\n",
        "print(\"X_test shape:\", X_test.shape)\n",
        "print(\"y_test shape:\", y_test.shape)\n"
      ],
      "metadata": {
        "id": "bHem6v5Zsn6t"
      },
      "id": "bHem6v5Zsn6t",
      "execution_count": null,
      "outputs": []
    },
    {
      "cell_type": "code",
      "source": [
        "# Définir des callbacks\n",
        "early_stopping = EarlyStopping(monitor='val_loss', patience=3, restore_best_weights=True)\n",
        "model_checkpoint = ModelCheckpoint('best_model_french.keras', save_best_only=True)"
      ],
      "metadata": {
        "id": "eeREM7u6rk8S"
      },
      "id": "eeREM7u6rk8S",
      "execution_count": null,
      "outputs": []
    },
    {
      "cell_type": "code",
      "source": [
        "# Entraîner le modèle\n",
        "model.fit(\n",
        "    X_train,\n",
        "    y_train,\n",
        "    epochs=20,  # Vous pouvez ajuster ce nombre\n",
        "    batch_size=32,\n",
        "    validation_data=(X_test, y_test),\n",
        "    verbose=1,\n",
        "    callbacks=[early_stopping, model_checkpoint]\n",
        ")\n"
      ],
      "metadata": {
        "id": "r5iKN5Olqwhz"
      },
      "id": "r5iKN5Olqwhz",
      "execution_count": null,
      "outputs": []
    },
    {
      "cell_type": "code",
      "source": [
        "dataset.to_csv('tweets.csv', index=False)"
      ],
      "metadata": {
        "id": "7BuNElvOI0bT"
      },
      "id": "7BuNElvOI0bT",
      "execution_count": null,
      "outputs": []
    },
    {
      "cell_type": "code",
      "execution_count": null,
      "id": "6897fb1dc79df9cd",
      "metadata": {
        "ExecuteTime": {
          "end_time": "2024-10-01T08:39:57.301329Z",
          "start_time": "2024-10-01T08:39:16.236506Z"
        },
        "id": "6897fb1dc79df9cd"
      },
      "outputs": [],
      "source": [
        "# Évaluation du modèle\n",
        "score, acc = model.evaluate(X_test, y_test, verbose=1, batch_size=32)\n",
        "print(f\"Test score: {score}\")\n",
        "print(f\"Test accuracy: {acc}\")"
      ]
    },
    {
      "cell_type": "code",
      "execution_count": null,
      "id": "762c586a51f53c67",
      "metadata": {
        "ExecuteTime": {
          "end_time": "2024-10-01T09:07:36.492627Z",
          "start_time": "2024-10-01T09:06:58.120701Z"
        },
        "id": "762c586a51f53c67"
      },
      "outputs": [],
      "source": [
        "# Prédictions et rapport de classification\n",
        "y_pred = model.predict(X_test)\n",
        "y_pred_classes = np.argmax(y_pred, axis=1)\n",
        "y_true_classes = np.argmax(y_test, axis=1)"
      ]
    },
    {
      "cell_type": "code",
      "execution_count": null,
      "id": "7abc28f006c79f7b",
      "metadata": {
        "ExecuteTime": {
          "end_time": "2024-10-01T09:11:13.396499Z",
          "start_time": "2024-10-01T09:11:13.366291Z"
        },
        "id": "7abc28f006c79f7b"
      },
      "outputs": [],
      "source": [
        "# Rapport de classification\n",
        "print(classification_report(y_true_classes, y_pred_classes))"
      ]
    },
    {
      "cell_type": "code",
      "execution_count": null,
      "id": "6c1c8713ba5d3a5d",
      "metadata": {
        "ExecuteTime": {
          "end_time": "2024-10-01T10:02:58.760856Z",
          "start_time": "2024-10-01T10:02:58.481026Z"
        },
        "id": "6c1c8713ba5d3a5d"
      },
      "outputs": [],
      "source": [
        "# Matrice de confusion\n",
        "cm = confusion_matrix(y_true_classes, y_pred_classes)\n",
        "\n",
        "# Normaliser par ligne pour obtenir des pourcentages\n",
        "cm_percentage = cm.astype('float') / cm.sum(axis=1)[:, np.newaxis] * 100\n",
        "\n",
        "# Définir les étiquettes\n",
        "labels = ['négatif', 'neutre', 'positif']\n",
        "\n",
        "# Tracer la matrice de confusion\n",
        "sns.heatmap(cm_percentage, annot=True, fmt='.2f', cmap='Blues', xticklabels=labels, yticklabels=labels)\n",
        "# Ajouter le signe % dans les annotations\n",
        "for text in plt.gca().texts:\n",
        "    text.set_text(f\"{text.get_text()}%\")\n",
        "plt.show()\n"
      ]
    }
  ],
  "metadata": {
    "kernelspec": {
      "display_name": "Python 3",
      "name": "python3"
    },
    "language_info": {
      "codemirror_mode": {
        "name": "ipython",
        "version": 3
      },
      "file_extension": ".py",
      "mimetype": "text/x-python",
      "name": "python",
      "nbconvert_exporter": "python",
      "pygments_lexer": "ipython3",
      "version": "3.12.3"
    },
    "colab": {
      "provenance": [],
      "gpuType": "T4"
    },
    "accelerator": "GPU"
  },
  "nbformat": 4,
  "nbformat_minor": 5
}